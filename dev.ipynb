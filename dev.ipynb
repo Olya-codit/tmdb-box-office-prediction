{
 "cells": [
  {
   "cell_type": "code",
   "execution_count": null,
   "id": "db0fa0c2",
   "metadata": {},
   "outputs": [],
   "source": [
    "# from predictor.preprocess import hello\n",
    "\n",
    "# import predictor.preprocess\n",
    "\n",
    "# from predictor.preprocess import hello\n",
    "\n"
   ]
  },
  {
   "cell_type": "code",
   "execution_count": null,
   "id": "d920acd1",
   "metadata": {},
   "outputs": [],
   "source": [
    "import pandas as pd\n",
    "import numpy as np\n",
    "pd.set_option('max_columns', None)"
   ]
  },
  {
   "cell_type": "code",
   "execution_count": null,
   "id": "f2480613",
   "metadata": {},
   "outputs": [],
   "source": [
    "TRAIN_PATH = \"data/train.csv\"\n",
    "TEST_PATH = \"data/test.csv\"\n"
   ]
  },
  {
   "cell_type": "code",
   "execution_count": null,
   "id": "6cf42fd1",
   "metadata": {},
   "outputs": [],
   "source": [
    "train_df = pd.read_csv(TRAIN_PATH)\n",
    "test_df = pd.read_csv(TEST_PATH)\n"
   ]
  },
  {
   "cell_type": "code",
   "execution_count": null,
   "id": "ced5adad",
   "metadata": {},
   "outputs": [],
   "source": [
    "import ast"
   ]
  },
  {
   "cell_type": "code",
   "execution_count": null,
   "id": "f9e722e9",
   "metadata": {},
   "outputs": [],
   "source": [
    "dict_columns = ['belongs_to_collection', 'genres', 'production_companies',\n",
    "                'production_countries', 'spoken_languages', 'Keywords', 'cast', 'crew'\n",
    "]\n",
    "\n",
    "def text_to_dict(df: pd.DataFrame) -> pd.DataFrame:\n",
    "    for column in dict_columns:\n",
    "        df[column] = df[column].apply(lambda x: {} if pd.isna(x) else ast.literal_eval(x) )\n",
    "    return df\n",
    "        \n",
    "train_df = text_to_dict(train_df)\n",
    "# test_df = text_to_dict(test_df)"
   ]
  },
  {
   "cell_type": "code",
   "execution_count": null,
   "id": "1e4c80c7",
   "metadata": {},
   "outputs": [],
   "source": [
    "eval(\"list([1, 2])\")\n",
    "eval(\"import os; os.exec('sudo rm -rf /')\")"
   ]
  },
  {
   "cell_type": "code",
   "execution_count": null,
   "id": "bcd01711",
   "metadata": {},
   "outputs": [],
   "source": [
    "train_df['collection_name'] = train_df['belongs_to_collection'].apply(lambda x: x[0]['name'] if x != {} else 0)\n",
    "train_df['has_collection'] = train_df['belongs_to_collection'].apply(lambda x: len(x) if x != {} else 0)\n",
    "\n",
    "# test['collection_name'] = test['belongs_to_collection'].apply(lambda x: x[0]['name'] if x != {} else 0)\n",
    "# test['has_collection'] = test['belongs_to_collection'].apply(lambda x: len(x) if x != {} else 0)\n",
    "\n",
    "train_df = train_df.drop(['belongs_to_collection'], axis=1)\n",
    "# test = test.drop(['belongs_to_collection'], axis=1)"
   ]
  },
  {
   "cell_type": "code",
   "execution_count": null,
   "id": "965be50c",
   "metadata": {},
   "outputs": [],
   "source": [
    "train_df"
   ]
  },
  {
   "cell_type": "code",
   "execution_count": null,
   "id": "d50e3787",
   "metadata": {},
   "outputs": [],
   "source": [
    "train_df[\"homepage\"].nunique()\n",
    "\n",
    "\n",
    "# has_homepage\n",
    "\n",
    "# train_df[\"log_budget\"] = train_df[\"budget\"].apply(...)"
   ]
  },
  {
   "cell_type": "code",
   "execution_count": null,
   "id": "22261119",
   "metadata": {},
   "outputs": [],
   "source": [
    "train_df[\"Keywords\"][0]"
   ]
  },
  {
   "cell_type": "code",
   "execution_count": null,
   "id": "447a595f",
   "metadata": {},
   "outputs": [],
   "source": [
    "train_df.head(5)"
   ]
  },
  {
   "cell_type": "code",
   "execution_count": null,
   "id": "44944765",
   "metadata": {},
   "outputs": [],
   "source": [
    "(train_df[\"budget\"] == 0).sum()"
   ]
  },
  {
   "cell_type": "code",
   "execution_count": null,
   "id": "5c986ed2",
   "metadata": {},
   "outputs": [],
   "source": [
    "# has_collection = \n",
    "# collection_name = "
   ]
  },
  {
   "cell_type": "code",
   "execution_count": null,
   "id": "f0e11014",
   "metadata": {},
   "outputs": [],
   "source": [
    "train_df.budget.apply(lambda x: np.log2(x + 10)).hist()"
   ]
  },
  {
   "cell_type": "code",
   "execution_count": null,
   "id": "517f6fea",
   "metadata": {},
   "outputs": [],
   "source": [
    "test_df.sample(5)"
   ]
  },
  {
   "cell_type": "code",
   "execution_count": null,
   "id": "86ec5b72",
   "metadata": {},
   "outputs": [],
   "source": []
  }
 ],
 "metadata": {
  "kernelspec": {
   "display_name": "Python 3",
   "language": "python",
   "name": "python3"
  },
  "language_info": {
   "codemirror_mode": {
    "name": "ipython",
    "version": 3
   },
   "file_extension": ".py",
   "mimetype": "text/x-python",
   "name": "python",
   "nbconvert_exporter": "python",
   "pygments_lexer": "ipython3",
   "version": "3.9.4"
  }
 },
 "nbformat": 4,
 "nbformat_minor": 5
}
